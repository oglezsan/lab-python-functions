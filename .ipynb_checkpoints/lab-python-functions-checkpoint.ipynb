{
 "cells": [
  {
   "cell_type": "markdown",
   "id": "25d7736c-ba17-4aff-b6bb-66eba20fbf4e",
   "metadata": {},
   "source": [
    "# Lab | Functions"
   ]
  },
  {
   "cell_type": "markdown",
   "id": "0c581062-8967-4d93-b06e-62833222f930",
   "metadata": {
    "tags": []
   },
   "source": [
    "## Exercise: Managing Customer Orders with Functions\n",
    "\n",
    "In the previous exercise, you improved the code for managing customer orders by using loops and flow control. Now, let's take it a step further and refactor the code by introducing functions.\n",
    "\n",
    "Follow the steps below to complete the exercise:\n",
    "\n",
    "1. Define a function named `initialize_inventory` that takes `products` as a parameter. Inside the function, implement the code for initializing the inventory dictionary using a loop and user input.\n",
    "\n",
    "2. Define a function named `get_customer_orders` that takes no parameters. Inside the function, implement the code for prompting the user to enter the product names using a loop. The function should return the `customer_orders` set.\n",
    "\n",
    "3. Define a function named `update_inventory` that takes `customer_orders` and `inventory` as parameters. Inside the function, implement the code for updating the inventory dictionary based on the customer orders.\n",
    "\n",
    "4. Define a function named `calculate_order_statistics` that takes `customer_orders` and `products` as parameters. Inside the function, implement the code for calculating the order statistics (total products ordered, and percentage of unique products ordered). The function should return these values.\n",
    "\n",
    "5. Define a function named `print_order_statistics` that takes `order_statistics` as a parameter. Inside the function, implement the code for printing the order statistics.\n",
    "\n",
    "6. Define a function named `print_updated_inventory` that takes `inventory` as a parameter. Inside the function, implement the code for printing the updated inventory.\n",
    "\n",
    "7. Call the functions in the appropriate sequence to execute the program and manage customer orders.\n",
    "\n",
    "Hints for functions:\n",
    "\n",
    "- Consider the input parameters required for each function and their return values.\n",
    "- Utilize function parameters and return values to transfer data between functions.\n",
    "- Test your functions individually to ensure they work correctly.\n",
    "\n",
    "\n"
   ]
  },
  {
   "cell_type": "code",
   "execution_count": 64,
   "id": "fc30d07e-d18f-4670-9a6a-0d86d37c4e10",
   "metadata": {
    "tags": []
   },
   "outputs": [
    {
     "name": "stdin",
     "output_type": "stream",
     "text": [
      "Input the quantity of t-shirt (only integer numbers):  2\n",
      "Input the quantity of mug (only integer numbers):  3\n",
      "Input the quantity of hat (only integer numbers):  4\n",
      "Input the quantity of book (only integer numbers):  5\n",
      "Input the quantity of keychain (only integer numbers):  6\n"
     ]
    },
    {
     "name": "stdout",
     "output_type": "stream",
     "text": [
      "Choose the products you would like to order:\n"
     ]
    },
    {
     "name": "stdin",
     "output_type": "stream",
     "text": [
      "Enter a product name (or 'done' to finish):  hat\n"
     ]
    },
    {
     "name": "stdout",
     "output_type": "stream",
     "text": [
      "hat added\n"
     ]
    },
    {
     "name": "stdin",
     "output_type": "stream",
     "text": [
      "Enter a product name (or 'done' to finish):  done\n"
     ]
    },
    {
     "name": "stdout",
     "output_type": "stream",
     "text": [
      "The total orders are: 1\n",
      "The percentage of unique orders is 20.0%\n",
      "For product t-shirt there is 2 items in stock\n",
      "For product mug there is 3 items in stock\n",
      "For product hat there is 3 items in stock\n",
      "For product book there is 5 items in stock\n",
      "For product keychain there is 6 items in stock\n"
     ]
    }
   ],
   "source": [
    "# Define list of products\n",
    "products = (\"t-shirt\", \"mug\", \"hat\", \"book\", \"keychain\")\n",
    "\n",
    "#Define a function named initialize_inventory that takes products as a parameter. Inside the function, implement the code for initializing the inventory dictionary using a loop and user input.\n",
    "def initialize_inventory(products):\n",
    "    inventory = {}\n",
    "    for product in products:\n",
    "        quantities = int(input(f\"Input the quantity of {product} (only integer numbers): \"))\n",
    "        inventory[product] = quantities\n",
    "    return inventory\n",
    "\n",
    "#Define a function named get_customer_orders that takes no parameters. Inside the function, implement the code for prompting the user to enter the product names using a loop. The function should return the customer_orders set.\n",
    "def get_customer_orders():\n",
    "    customer_orders = set()\n",
    "    print(\"Choose the products you would like to order:\")\n",
    "    while True:\n",
    "        product = input(\"Enter a product name (or 'done' to finish): \")\n",
    "        if product in products:\n",
    "            customer_orders.add(product)\n",
    "            print(f\"{product} added\")\n",
    "        elif product.lower() == \"done\":\n",
    "            break\n",
    "        else:\n",
    "            print(\"Invalid product name.\")\n",
    "    return customer_orders\n",
    "\n",
    "#Define a function named update_inventory that takes customer_orders and inventory as parameters.\n",
    "#Inside the function, implement the code for updating the inventory dictionary based on the customer orders.\n",
    "def update_inventory(customer_orders,inventory):\n",
    "    for product in customer_orders:\n",
    "        inventory[product] -=1\n",
    "\n",
    "\n",
    "#Define a function named calculate_order_statistics that takes customer_orders and products as parameters.\n",
    "#Inside the function, implement the code for calculating the order statistics (total products ordered, and percentage of unique products ordered). The function should return these values.\n",
    "def calculate_order_statistics(customer_orders, products):\n",
    "    total_orders = len(customer_orders)\n",
    "    unique_orders = len(set(customer_orders))\n",
    "    percentage_unique_orders = (unique_orders / len(products)) * 100\n",
    "    return total_orders, percentage_unique_orders\n",
    "\n",
    "#Define a function named print_order_statistics that takes order_statistics as a parameter. Inside the function, implement the code for printing the order statistics\n",
    "def print_order_statistics(order_statistics):\n",
    "    total_orders, percentage_unique_orders = order_statistics\n",
    "    print(f\"The total orders are: {total_orders}\")\n",
    "    print(f\"The percentage of unique orders is {percentage_unique_orders}%\")\n",
    "\n",
    "#Define a function named print_updated_inventory that takes inventory as a parameter. Inside the function, implement the code for printing the updated inventory.\n",
    "def print_updated_inventory(inventory):\n",
    "    for product,quantity in inventory.items():\n",
    "            print(f\"For product {product} there is {quantity} items in stock\")\n",
    "\n",
    "# Call the functions\n",
    "inventory = initialize_inventory(products)\n",
    "customer_orders = get_customer_orders()\n",
    "update_inv = update_inventory(customer_orders,inventory)\n",
    "order_statistics = calculate_order_statistics(customer_orders, products)\n",
    "print_order_statistics(order_statistics)\n",
    "print_updated_inventory(inventory)\n",
    "#print(customer_orders)\n",
    "#print(inventory)\n",
    "\n"
   ]
  },
  {
   "cell_type": "code",
   "execution_count": null,
   "id": "ccc4a7f1-8c51-49dd-adef-ae4989e5d3f5",
   "metadata": {},
   "outputs": [],
   "source": []
  }
 ],
 "metadata": {
  "kernelspec": {
   "display_name": "Python 3 (ipykernel)",
   "language": "python",
   "name": "python3"
  },
  "language_info": {
   "codemirror_mode": {
    "name": "ipython",
    "version": 3
   },
   "file_extension": ".py",
   "mimetype": "text/x-python",
   "name": "python",
   "nbconvert_exporter": "python",
   "pygments_lexer": "ipython3",
   "version": "3.11.7"
  }
 },
 "nbformat": 4,
 "nbformat_minor": 5
}
